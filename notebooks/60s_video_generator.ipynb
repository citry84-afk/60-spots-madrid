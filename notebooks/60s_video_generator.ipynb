{
  "cells": [
    {
      "cell_type": "markdown",
      "metadata": {},
      "source": [
        "# 🎬 Generador de Vídeos 60s para 60secondstrip\n",
        "\n",
        "Este notebook genera vídeos de 60 segundos para cada POI usando:\n",
        "- **MoviePy** para edición de vídeo\n",
        "- **gTTS** para síntesis de voz\n",
        "- **PIL** para manipulación de imágenes\n",
        "- **Efecto Ken Burns** para dinamismo visual\n",
        "\n",
        "## 📁 Estructura de archivos:\n",
        "- `input/`: Scripts y datos de entrada\n",
        "- `images/`: Imágenes de POIs\n",
        "- `output/`: Vídeos generados\n",
        "- `audio/`: Archivos de audio TTS\n"
      ]
    },
    {
      "cell_type": "code",
      "execution_count": null,
      "metadata": {},
      "outputs": [],
      "source": [
        "import os\n",
        "import io\n",
        "import math\n",
        "import tempfile\n",
        "import textwrap\n",
        "import hashlib\n",
        "from typing import List, Optional\n",
        "from moviepy.editor import ImageClip, AudioFileClip, concatenate_videoclips, CompositeVideoClip, TextClip\n",
        "from moviepy.audio.io.AudioFileClip import AudioFileClip\n",
        "from gtts import gTTS\n",
        "from PIL import Image, ImageDraw, ImageFont\n",
        "import requests\n",
        "import json\n",
        "\n",
        "# Configuración\n",
        "INPUT_DIR = 'input'\n",
        "IMAGES_DIR = 'images'\n",
        "OUTPUT_DIR = 'output'\n",
        "AUDIO_DIR = 'audio'\n",
        "\n",
        "# Crear directorios si no existen\n",
        "for dir_path in [INPUT_DIR, IMAGES_DIR, OUTPUT_DIR, AUDIO_DIR]:\n",
        "    os.makedirs(dir_path, exist_ok=True)\n",
        "\n",
        "print(\"✅ Directorios creados\")\n"
      ]
    },
    {
      "cell_type": "code",
      "execution_count": null,
      "metadata": {},
      "outputs": [],
      "source": [
        "\n"
      ]
    },
    {
      "cell_type": "code",
      "execution_count": null,
      "metadata": {},
      "outputs": [],
      "source": [
        "\n"
      ]
    },
    {
      "cell_type": "code",
      "execution_count": null,
      "metadata": {},
      "outputs": [],
      "source": [
        "\n"
      ]
    },
    {
      "cell_type": "markdown",
      "metadata": {},
      "source": [
        "\n"
      ]
    }
  ],
  "metadata": {
    "language_info": {
      "name": "python"
    }
  },
  "nbformat": 4,
  "nbformat_minor": 2
}
